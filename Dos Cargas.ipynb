{
 "cells": [
  {
   "cell_type": "code",
   "execution_count": 78,
   "metadata": {},
   "outputs": [],
   "source": [
    "import matplotlib.pyplot as plt\n",
    "import numpy as np\n",
    "import scipy as sp\n",
    "from ipywidgets import interact, interactive, fixed, interact_manual\n",
    "from ipywidgets import FloatSlider\n",
    "import ipywidgets as widgets"
   ]
  },
  {
   "cell_type": "code",
   "execution_count": 79,
   "metadata": {},
   "outputs": [],
   "source": [
    "carga1 = [4000, 2, 1]\n",
    "carga2 = [-4, -2, -1]\n",
    "m = 1\n",
    "dx = np.abs(carga2[0]-carga1[0])\n",
    "dxn = carga2[0]-carga1[0]\n",
    "dy = np.abs(carga2[1]-carga1[1])\n",
    "dyn = carga2[1]-carga1[1]\n",
    "r = (dxn**2 + dyn**2)**(3/2)\n",
    "fu = carga2[2]*carga1[2]*9e9/r\n",
    "tf = 10\n",
    "if dx == 0 or dy == 0:\n",
    "    if dx == 0:\n",
    "        tf = np.sqrt(abs(carga2[1] - carga1[1])*m/(fu))\n",
    "        \n",
    "    else:\n",
    "        tf = np.sqrt(abs(carga2[0] - carga1[0])*m/(fu))\n",
    "else:\n",
    "    theta = np.arctan(dy/dx)\n",
    "    betha = np.arctan(dx/dy)\n",
    "    if carga1[2]*carga2[2] > 0:\n",
    "        tf = np.sqrt(2*m*abs(carga2[0] - carga1[0])/(fu*(np.sin(betha)+ np.cos(theta))))\n",
    "    else:\n",
    "        tf = np.sqrt(2*m*(carga2[0] - carga1[0])/(fu*(np.sin(betha)+ np.cos(theta))))"
   ]
  },
  {
   "cell_type": "code",
   "execution_count": 80,
   "metadata": {},
   "outputs": [],
   "source": [
    "def position(s, angle, f, m, iniciales, mults):\n",
    "    return (-mults[0]*f*np.sin(angle)*s**2/(2*m) + iniciales[0], -mults[1]*f*np.cos(angle)*s**2/(2*m)  + iniciales[1])\n",
    "\n",
    "def positionsub(t, angle, f, m, iniciales, mults):\n",
    "    return (mults[0]*f*np.cos(angle)*t**2/(2*m) + iniciales[0], mults[1]*f*np.sin(angle)*t**2/(2*m) + iniciales[1])"
   ]
  },
  {
   "cell_type": "code",
   "execution_count": 81,
   "metadata": {},
   "outputs": [],
   "source": [
    "def f(t):\n",
    "    \n",
    "    t = t*tf\n",
    "    f = carga2[2]*carga1[2]*(9e9)/(r)\n",
    "    plt.figure(figsize = (8, 6))\n",
    "    plt.scatter(carga1[0], carga1[1], label=\"C = \"+str(carga1[2]) + \" inicial\")\n",
    "    plt.scatter(carga2[0], carga2[1], label=\"C = \"+str(carga2[2]) + \" inicial\")\n",
    "    \n",
    "    if dx == 0 or dy == 0:\n",
    "        if dx == 0:\n",
    "            plt.scatter(carga1[0], -(dyn/dy)*f*(1/(2*m))*t**2 + carga1[1], label=\"C = \"+str(carga1[2]) + \" t = \"+str(t)+\"s\")\n",
    "            plt.scatter(carga1[0], (dyn/dy)*f*(1/(2*m))*t**2 + carga2[1], label=\"C = \"+str(carga2[2]) + \" t = \"+str(t)+\"s\")\n",
    "        else:\n",
    "            plt.scatter(-(dxn/dx)*f*(1/(2*m))*t**2 + carga1[0], carga1[1], label=\"C = \"+str(carga1[2]) + \" t = \"+str(t)+\"s\")\n",
    "            plt.scatter((dxn/dx)*f*(1/(2*m))*t**2 + carga2[0], carga1[1], label=\"C = \"+str(carga2[2]) + \" t = \"+str(t)+\"s\")\n",
    "        \n",
    "    else:\n",
    "        theta = np.arctan(dy/dx)\n",
    "        betha = np.arctan(dx/dy)\n",
    "        \n",
    "        pos = position(t, betha, f, m, (carga1[0], carga1[1]), (dxn/dx, dyn/dy))\n",
    "        plt.scatter(pos[0], pos[1], label=\"C = \"+str(carga1[2]) + \" t = \"+str(t)+\"s\")\n",
    "        pos = positionsub(t, theta, f, m, (carga2[0], carga2[1]), (dxn/dx, dyn/dy))\n",
    "        plt.scatter(pos[0], pos[1], label=\"C = \"+str(carga2[2]) + \" t = \"+str(t)+\"s\")\n",
    "    \n",
    "    plt.grid()\n",
    "    plt.legend(loc=\"best\")\n",
    "    plt.show()"
   ]
  },
  {
   "cell_type": "code",
   "execution_count": 82,
   "metadata": {
    "scrolled": true
   },
   "outputs": [
    {
     "data": {
      "application/vnd.jupyter.widget-view+json": {
       "model_id": "0075930d3ed34b7190d0e6042af04251",
       "version_major": 2,
       "version_minor": 0
      },
      "text/html": [
       "<p>Failed to display Jupyter Widget of type <code>interactive</code>.</p>\n",
       "<p>\n",
       "  If you're reading this message in the Jupyter Notebook or JupyterLab Notebook, it may mean\n",
       "  that the widgets JavaScript is still loading. If this message persists, it\n",
       "  likely means that the widgets JavaScript library is either not installed or\n",
       "  not enabled. See the <a href=\"https://ipywidgets.readthedocs.io/en/stable/user_install.html\">Jupyter\n",
       "  Widgets Documentation</a> for setup instructions.\n",
       "</p>\n",
       "<p>\n",
       "  If you're reading this message in another frontend (for example, a static\n",
       "  rendering on GitHub or <a href=\"https://nbviewer.jupyter.org/\">NBViewer</a>),\n",
       "  it may mean that your frontend doesn't currently support widgets.\n",
       "</p>\n"
      ],
      "text/plain": [
       "interactive(children=(FloatSlider(value=0.0, description='t', max=1.0, step=0.01), Button(description='Run Interact', style=ButtonStyle()), Output()), _dom_classes=('widget-interact',))"
      ]
     },
     "metadata": {},
     "output_type": "display_data"
    },
    {
     "data": {
      "image/png": "[encoded data removed]",
      "text/plain": [
       "<Figure size 576x432 with 1 Axes>"
      ]
     },
     "metadata": {},
     "output_type": "display_data"
    },
    {
     "data": {
      "image/png": "[encoded data removed]",
      "text/plain": [
       "<Figure size 576x432 with 1 Axes>"
      ]
     },
     "metadata": {},
     "output_type": "display_data"
    }
   ],
   "source": [
    "interact_manual(f, t=FloatSlider(min=0, max=1, step=0.01));\n"
   ]
  },
  {
   "cell_type": "code",
   "execution_count": null,
   "metadata": {},
   "outputs": [],
   "source": []
  },
  {
   "cell_type": "code",
   "execution_count": null,
   "metadata": {},
   "outputs": [],
   "source": []
  },
  {
   "cell_type": "code",
   "execution_count": null,
   "metadata": {},
   "outputs": [],
   "source": []
  }
 ],
 "metadata": {
  "kernelspec": {
   "display_name": "Python 3",
   "language": "python",
   "name": "python3"
  },
  "language_info": {
   "codemirror_mode": {
    "name": "ipython",
    "version": 3
   },
   "file_extension": ".py",
   "mimetype": "text/x-python",
   "name": "python",
   "nbconvert_exporter": "python",
   "pygments_lexer": "ipython3",
   "version": "3.6.4"
  }
 },
 "nbformat": 4,
 "nbformat_minor": 2
}
