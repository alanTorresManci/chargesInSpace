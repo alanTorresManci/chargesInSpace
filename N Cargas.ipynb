{
 "cells": [
  {
   "cell_type": "code",
   "execution_count": 1,
   "metadata": {},
   "outputs": [],
   "source": [
    "import matplotlib.pyplot as plt\n",
    "import numpy as np\n",
    "import scipy as sp\n",
    "from ipywidgets import interact, interactive, fixed, interact_manual\n",
    "from ipywidgets import FloatSlider\n",
    "import ipywidgets as widgets"
   ]
  },
  {
   "cell_type": "code",
   "execution_count": 2,
   "metadata": {},
   "outputs": [
    {
     "data": {
      "text/plain": [
       "[[0, 76.36753236814714, 132.5745073534124],\n",
       " [76.36753236814714, 0, 22.627416997969522],\n",
       " [132.5745073534124, 22.627416997969522, 0]]"
      ]
     },
     "execution_count": 2,
     "metadata": {},
     "output_type": "execute_result"
    }
   ],
   "source": [
    "cargas = np.array([[1, 1, 1], [4, 4, -1], [2, 6, 1]])\n",
    "#cargas = np.array([[1, 1, 1], [4, 4, 1]])\n",
    "fu = [[0 for x in range(len(cargas))] for y in range(len(cargas))]\n",
    "dx = [[0 for x in range(len(cargas))] for y in range(len(cargas))]\n",
    "dxn = [[0 for x in range(len(cargas))] for y in range(len(cargas))]\n",
    "dy = [[0 for x in range(len(cargas))] for y in range(len(cargas))]\n",
    "dyn = [[0 for x in range(len(cargas))] for y in range(len(cargas))]\n",
    "r = [[0 for x in range(len(cargas))] for y in range(len(cargas))]\n",
    "m = 1\n",
    "tf = 1\n",
    "for i in range(len(cargas)):\n",
    "    for j in range(len(cargas)):\n",
    "        if i != j:\n",
    "            dx[i][j] = np.abs(cargas[j, 0]-cargas[i, 0])\n",
    "            dxn[i][j] = cargas[j, 0]-cargas[i, 0]\n",
    "            dy[i][j] = np.abs(cargas[j, 1]-cargas[i, 1])\n",
    "            dyn[i][j] = cargas[j, 1]-cargas[i, 1]\n",
    "            r[i][j] = (dxn[i][j]**2 + dyn[i][j]**2)**(3/2)\n",
    "            fu[i][j] = cargas[j, 2]*cargas[i, 2]*9e9/r[i][j]\n",
    "r"
   ]
  },
  {
   "cell_type": "code",
   "execution_count": 3,
   "metadata": {},
   "outputs": [],
   "source": [
    "def positionx(t, f, m, inicial):\n",
    "    return f*(t**2)/(2*m) + inicial\n",
    "def positiony(t, f, m, inicial):\n",
    "    return f*(t**2)/(2*m)  + inicial\n",
    "\n",
    "def positionsub(t, angle, f, m, iniciales, mults):\n",
    "    return (mults[0]*f*np.cos(angle)*t**2/(2*m) + iniciales[0], mults[1]*f*np.sin(angle)*t**2/(2*m) + iniciales[1])"
   ]
  },
  {
   "cell_type": "code",
   "execution_count": 4,
   "metadata": {},
   "outputs": [],
   "source": [
    "def f(t):\n",
    "    \n",
    "    t = t/1000\n",
    "    #f = carga2[2]*carga1[2]*(9e9)/(r)\n",
    "    plt.figure(figsize = (8, 6))\n",
    "    for i in range(len(cargas)):\n",
    "        #plt.scatter(cargas[i, 0], cargas[i, 1], label=\"C = \"+str(cargas[i, 2]) + \" inicial\")\n",
    "        \"\"\"\n",
    "        if dx == 0 or dy == 0:\n",
    "            if dx == 0:\n",
    "                plt.scatter(carga1[0], -(dyn/dy)*f*(1/(2*m))*t**2 + carga1[1], label=\"C = \"+str(carga1[2]) + \" t = \"+str(t)+\"s\")\n",
    "                plt.scatter(carga1[0], (dyn/dy)*f*(1/(2*m))*t**2 + carga2[1], label=\"C = \"+str(carga2[2]) + \" t = \"+str(t)+\"s\")\n",
    "            else:\n",
    "                plt.scatter(-(dxn/dx)*f*(1/(2*m))*t**2 + carga1[0], carga1[1], label=\"C = \"+str(carga1[2]) + \" t = \"+str(t)+\"s\")\n",
    "                plt.scatter((dxn/dx)*f*(1/(2*m))*t**2 + carga2[0], carga1[1], label=\"C = \"+str(carga2[2]) + \" t = \"+str(t)+\"s\")\n",
    "\n",
    "        else:\n",
    "        \"\"\"\n",
    "        for j in range(len(cargas)):\n",
    "            if i != j:\n",
    "                forcex, forcey = 0, 0\n",
    "                angle = np.arctan(dyn[i][j]/dxn[i][j])\n",
    "                #if cargas[j, 1] > cargas[i, 1]:\n",
    "                x = np.cos(angle)\n",
    "                y = np.sin(angle)\n",
    "                #else:\n",
    "                #    x, y = np.sin(angle), np.cos(angle)\n",
    "                signox = -(cargas[j, 0] - cargas[i, 0])*cargas[j, 2]*cargas[i, 2]\n",
    "                signoy = -(cargas[j, 1] - cargas[i, 1])*cargas[j, 2]*cargas[i, 2]\n",
    "                forcex = forcex - (dxn[i][j]/dx[i][j])*fu[i][j]*x \n",
    "                forcey = forcey - (dyn[i][j]/dy[i][j])*fu[i][j]*y\n",
    "                \n",
    "        posx = positionx(t, forcex, m, cargas[i, 0])\n",
    "        posy = positiony(t, forcey, m, cargas[i, 1])\n",
    "        plt.scatter(posx, posy, label=\"C = \"+str(cargas[i, 2]) + \" t = \"+str(t)+\"s\")\n",
    "\n",
    "    plt.grid()\n",
    "    plt.legend(loc=\"best\")\n",
    "    plt.show()"
   ]
  },
  {
   "cell_type": "code",
   "execution_count": 5,
   "metadata": {},
   "outputs": [
    {
     "data": {
      "application/vnd.jupyter.widget-view+json": {
       "model_id": "9ab2f795969e4611b2d952a626a2cda2",
       "version_major": 2,
       "version_minor": 0
      },
      "text/html": [
       "<p>Failed to display Jupyter Widget of type <code>interactive</code>.</p>\n",
       "<p>\n",
       "  If you're reading this message in the Jupyter Notebook or JupyterLab Notebook, it may mean\n",
       "  that the widgets JavaScript is still loading. If this message persists, it\n",
       "  likely means that the widgets JavaScript library is either not installed or\n",
       "  not enabled. See the <a href=\"https://ipywidgets.readthedocs.io/en/stable/user_install.html\">Jupyter\n",
       "  Widgets Documentation</a> for setup instructions.\n",
       "</p>\n",
       "<p>\n",
       "  If you're reading this message in another frontend (for example, a static\n",
       "  rendering on GitHub or <a href=\"https://nbviewer.jupyter.org/\">NBViewer</a>),\n",
       "  it may mean that your frontend doesn't currently support widgets.\n",
       "</p>\n"
      ],
      "text/plain": [
       "interactive(children=(FloatSlider(value=0.0, description='t', max=1.0, step=0.01), Output()), _dom_classes=('widget-interact',))"
      ]
     },
     "metadata": {},
     "output_type": "display_data"
    },
    {
     "data": {
      "text/plain": [
       "<function __main__.f>"
      ]
     },
     "execution_count": 5,
     "metadata": {},
     "output_type": "execute_result"
    }
   ],
   "source": [
    "interact(f, t=FloatSlider(min=0, max=1, step=0.01))"
   ]
  },
  {
   "cell_type": "code",
   "execution_count": null,
   "metadata": {},
   "outputs": [],
   "source": []
  },
  {
   "cell_type": "code",
   "execution_count": null,
   "metadata": {},
   "outputs": [],
   "source": []
  }
 ],
 "metadata": {
  "kernelspec": {
   "display_name": "Python 3",
   "language": "python",
   "name": "python3"
  },
  "language_info": {
   "codemirror_mode": {
    "name": "ipython",
    "version": 3
   },
   "file_extension": ".py",
   "mimetype": "text/x-python",
   "name": "python",
   "nbconvert_exporter": "python",
   "pygments_lexer": "ipython3",
   "version": "3.6.4"
  }
 },
 "nbformat": 4,
 "nbformat_minor": 2
}
