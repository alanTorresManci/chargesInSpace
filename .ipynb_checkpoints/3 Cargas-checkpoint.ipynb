{
 "cells": [
  {
   "cell_type": "code",
   "execution_count": 230,
   "metadata": {},
   "outputs": [],
   "source": [
    "import matplotlib.pyplot as plt\n",
    "import numpy as np\n",
    "import scipy as sp\n",
    "from ipywidgets import interact, interactive, fixed, interact_manual\n",
    "from ipywidgets import FloatSlider\n",
    "import ipywidgets as widgets\n",
    "import random as random\n",
    "%matplotlib inline"
   ]
  },
  {
   "cell_type": "code",
   "execution_count": 231,
   "metadata": {},
   "outputs": [],
   "source": [
    "carga1 = [0, 0, 1]\n",
    "carga2 = [1, 1, 1]\n",
    "carga3 = [2, 2, -1]\n",
    "m = 1\n",
    "\n",
    "#uno-dos\n",
    "dx12 = carga2[0] - carga1[0]\n",
    "dy12 = carga2[1] - carga1[1]\n",
    "\n",
    "#uno-tres\n",
    "dx13 = carga3[0] - carga1[0]\n",
    "dy13 = carga3[1] - carga1[1]\n",
    "\n",
    "#dos-uno\n",
    "dx21 = carga1[0] - carga2[0]\n",
    "dy21 = carga1[1] - carga2[1]\n",
    "\n",
    "#dos-tres \n",
    "dx23 = carga3[0] - carga2[0]\n",
    "dy23 = carga3[1] - carga2[1]\n",
    "\n",
    "#tres-uno \n",
    "dx31 = carga1[0] - carga3[0]\n",
    "dy31 = carga1[1] - carga3[1]\n",
    "\n",
    "#tres-dos\n",
    "dx32 = carga2[0] - carga3[0]\n",
    "dy32 = carga2[1] - carga3[1]"
   ]
  },
  {
   "cell_type": "code",
   "execution_count": 232,
   "metadata": {},
   "outputs": [],
   "source": [
    "#angulos\n",
    "theta = np.arctan(dy12/dx12)\n",
    "phi = np.arctan(dy13/dx13)\n",
    "alfa = np.arctan(dy21/dx21)\n",
    "beta = np.arctan(dy23/dx23)\n",
    "kapa = np.arctan(dy32/dx32)\n",
    "epsilon = np.arctan(dy31/dx31)"
   ]
  },
  {
   "cell_type": "code",
   "execution_count": 233,
   "metadata": {},
   "outputs": [],
   "source": [
    "#radios\n",
    "r12 = (dx12**2 + dy12**2)**(3/2)\n",
    "r13 = (dx13**2 + dy13**2)**(3/2)\n",
    "\n",
    "r21 = (dx21**2 + dy21**2)**(3/2)\n",
    "r23 = (dx23**2 + dy23**2)**(3/2)\n",
    "\n",
    "r31 = (dx31**2 + dy31**2)**(3/2)\n",
    "r32 = (dx32**2 + dy32**2)**(3/2)"
   ]
  },
  {
   "cell_type": "code",
   "execution_count": 234,
   "metadata": {},
   "outputs": [],
   "source": [
    "#Fuerzas\n",
    "f12 = carga1[2]*carga2[2]*9e9/r12\n",
    "f13 = carga1[2]*carga3[2]*9e9/r13\n",
    "\n",
    "f21 = carga2[2]*carga1[2]*9e9/r21\n",
    "f23 = carga2[2]*carga3[2]*9e9/r23\n",
    "\n",
    "f31 = carga3[2]*carga1[2]*9e9/r31\n",
    "f32 = carga3[2]*carga2[2]*9e9/r32"
   ]
  },
  {
   "cell_type": "code",
   "execution_count": 239,
   "metadata": {},
   "outputs": [
    {
     "data": {
      "text/plain": [
       "(3181980515.3394637, -397747564.41743296)"
      ]
     },
     "execution_count": 239,
     "metadata": {},
     "output_type": "execute_result"
    }
   ],
   "source": [
    "f12, f13"
   ]
  },
  {
   "cell_type": "code",
   "execution_count": 235,
   "metadata": {},
   "outputs": [],
   "source": [
    "#Separacion de fuerzas\n",
    "f12x = np.cos(theta)*f12*(-carga1[2]*carga2[2])*dx12/(np.abs(dx12)*np.abs(carga1[2]*carga2[2]))\n",
    "f12y = np.sin(theta)*f12*(-carga1[2]*carga2[2])*dy12/(np.abs(dy12)*np.abs(carga1[2]*carga2[2]))\n",
    "\n",
    "f13x = np.cos(phi)*f13*(-carga1[2]*carga3[2])*dx13/(np.abs(dx13)*np.abs(carga1[2]*carga3[2]))\n",
    "f13y = np.sin(phi)*f13*(-carga1[2]*carga3[2])*dy13/(np.abs(dy13)*np.abs(carga1[2]*carga3[2]))\n",
    "\n",
    "f1x = f12x + f13x\n",
    "f1y = f12y + f13y\n",
    "\n",
    "f21x = np.cos(alfa)*f21*(-carga2[2]*carga1[2])*dx21/(np.abs(dx21)*np.abs(carga2[2]*carga1[2]))\n",
    "f21y = np.sin(alfa)*f21*(-carga2[2]*carga1[2])*dy21/(np.abs(dy21)*np.abs(carga2[2]*carga1[2]))\n",
    "\n",
    "f23x = np.cos(beta)*f23*(-carga2[2]*carga3[2])*dx23/(np.abs(dx23)*np.abs(carga2[2]*carga3[2]))\n",
    "f23y = np.sin(beta)*f23*(-carga2[2]*carga3[2])*dy23/(np.abs(dy23)*np.abs(carga2[2]*carga3[2]))\n",
    "\n",
    "f2x = f21x + f23x\n",
    "f2y = f21y + f23y\n",
    "\n",
    "f32x = np.cos(kapa)*f32*(-carga3[2]*carga2[2])*dx32/(np.abs(dx32)*np.abs(carga3[2]*carga2[2]))\n",
    "f32y = np.sin(kapa)*f32*(-carga3[2]*carga2[2])*dy32/(np.abs(dy32)*np.abs(carga3[2]*carga2[2]))\n",
    "\n",
    "f31x = np.cos(epsilon)*f31*(-carga3[2]*carga1[2])*dx31/(np.abs(dx31)*np.abs(carga3[2]*carga1[2]))\n",
    "f31y = np.cos(epsilon)*f31*(-carga3[2]*carga1[2])*dy31/(np.abs(dy31)*np.abs(carga3[2]*carga1[2]))\n",
    "\n",
    "f3x = f32x + f31x\n",
    "f3y = f32y + f31y"
   ]
  },
  {
   "cell_type": "code",
   "execution_count": 236,
   "metadata": {},
   "outputs": [],
   "source": [
    "def position(t,fx, fy, m, iniciales):\n",
    "    return (fx*(t**2)/(2*m) + iniciales[0], fy*(t**2)/(2*m)  + iniciales[1])"
   ]
  },
  {
   "cell_type": "code",
   "execution_count": 237,
   "metadata": {},
   "outputs": [],
   "source": [
    "def f(t):\n",
    "    \n",
    "    t = t/10000\n",
    "    plt.figure(figsize = (8, 6))\n",
    "    plt.scatter(carga1[0], carga1[1], label=\"C = \"+str(carga1[2]) + \" inicial\")\n",
    "    plt.scatter(carga2[0], carga2[1], label=\"C = \"+str(carga2[2]) + \" inicial\")\n",
    "    plt.scatter(carga3[0], carga3[1], label=\"C = \"+str(carga3[2]) + \" inicial\")\n",
    "    \n",
    "    \n",
    "        \n",
    "    pos = position(t, f1x, f1y, m, (carga1[0], carga1[1]))\n",
    "    plt.scatter(pos[0], pos[1], label=\"C = \"+str(carga1[2]) + \" t = \"+str(t)+\"s\")\n",
    "\n",
    "    pos = position(t, f2x, f2y, m, (carga2[0], carga2[1]))\n",
    "    plt.scatter(pos[0], pos[1], label=\"C = \"+str(carga2[2]) + \" t = \"+str(t)+\"s\")\n",
    "\n",
    "    pos = position(t, f3x, f3y, m, (carga3[0], carga3[1]))\n",
    "    plt.scatter(pos[0], pos[1], label=\"C = \"+str(carga3[2]) + \" t = \"+str(t)+\"s\")\n",
    "    \n",
    "    plt.grid()\n",
    "    plt.xlim(xmin = -2, xmax = 4)\n",
    "    plt.ylim(ymin = -2, ymax = 4)\n",
    "    plt.legend(loc=\"best\")\n",
    "    plt.show()"
   ]
  },
  {
   "cell_type": "code",
   "execution_count": 238,
   "metadata": {},
   "outputs": [
    {
     "data": {
      "application/vnd.jupyter.widget-view+json": {
       "model_id": "d7f06febc5d948d38ba518eb254b0d87",
       "version_major": 2,
       "version_minor": 0
      },
      "text/html": [
       "<p>Failed to display Jupyter Widget of type <code>interactive</code>.</p>\n",
       "<p>\n",
       "  If you're reading this message in the Jupyter Notebook or JupyterLab Notebook, it may mean\n",
       "  that the widgets JavaScript is still loading. If this message persists, it\n",
       "  likely means that the widgets JavaScript library is either not installed or\n",
       "  not enabled. See the <a href=\"https://ipywidgets.readthedocs.io/en/stable/user_install.html\">Jupyter\n",
       "  Widgets Documentation</a> for setup instructions.\n",
       "</p>\n",
       "<p>\n",
       "  If you're reading this message in another frontend (for example, a static\n",
       "  rendering on GitHub or <a href=\"https://nbviewer.jupyter.org/\">NBViewer</a>),\n",
       "  it may mean that your frontend doesn't currently support widgets.\n",
       "</p>\n"
      ],
      "text/plain": [
       "interactive(children=(FloatSlider(value=0.0, description='t', max=1.0, step=0.01), Output()), _dom_classes=('widget-interact',))"
      ]
     },
     "metadata": {},
     "output_type": "display_data"
    }
   ],
   "source": [
    "interact(f, t=FloatSlider(min=0, max=1, step=0.01));"
   ]
  },
  {
   "cell_type": "code",
   "execution_count": null,
   "metadata": {},
   "outputs": [],
   "source": []
  },
  {
   "cell_type": "code",
   "execution_count": null,
   "metadata": {},
   "outputs": [],
   "source": []
  },
  {
   "cell_type": "code",
   "execution_count": null,
   "metadata": {},
   "outputs": [],
   "source": []
  }
 ],
 "metadata": {
  "kernelspec": {
   "display_name": "Python 3",
   "language": "python",
   "name": "python3"
  },
  "language_info": {
   "codemirror_mode": {
    "name": "ipython",
    "version": 3
   },
   "file_extension": ".py",
   "mimetype": "text/x-python",
   "name": "python",
   "nbconvert_exporter": "python",
   "pygments_lexer": "ipython3",
   "version": "3.6.4"
  }
 },
 "nbformat": 4,
 "nbformat_minor": 2
}
